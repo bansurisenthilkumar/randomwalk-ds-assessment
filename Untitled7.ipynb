{
  "nbformat": 4,
  "nbformat_minor": 0,
  "metadata": {
    "colab": {
      "provenance": []
    },
    "kernelspec": {
      "name": "python3",
      "display_name": "Python 3"
    },
    "language_info": {
      "name": "python"
    }
  },
  "cells": [
    {
      "cell_type": "code",
      "execution_count": 43,
      "metadata": {
        "id": "aaReQn5xLW16"
      },
      "outputs": [],
      "source": [
        "import pandas as pd\n",
        "import numpy as np\n",
        "import matplotlib.pyplot as plt\n",
        "S=pd.read_csv(\"/content/books.csv\")"
      ]
    },
    {
      "cell_type": "code",
      "source": [
        "#How many rows and columns are there in books.csv dataset?\n",
        "\n",
        "x = S.shape[0]\n",
        "y = S.shape[1]\n",
        "print(f\"number of rows:{x}\")\n",
        "print(f\"number of rows:{y}\")\n"
      ],
      "metadata": {
        "colab": {
          "base_uri": "https://localhost:8080/"
        },
        "id": "1nc8qc3WMY1d",
        "outputId": "ff61ead3-972e-483e-f0ca-3bf4e7811ee2"
      },
      "execution_count": 44,
      "outputs": [
        {
          "output_type": "stream",
          "name": "stdout",
          "text": [
            "number of rows:399\n",
            "number of rows:24\n"
          ]
        }
      ]
    },
    {
      "cell_type": "markdown",
      "source": [],
      "metadata": {
        "id": "Je3Dd3OhPUoN"
      }
    },
    {
      "cell_type": "code",
      "source": [
        "#How many books do not have an original title?\n",
        "noorginal=S[S['original_title'].isnull()]['title'].count()\n",
        "print(f\"number of that does not have an original title:{noorginal}\")\n",
        "\n",
        "\n"
      ],
      "metadata": {
        "colab": {
          "base_uri": "https://localhost:8080/"
        },
        "id": "elY_jazhOHnM",
        "outputId": "de598e2f-7725-417e-8b2d-2befeb39b711"
      },
      "execution_count": 36,
      "outputs": [
        {
          "output_type": "stream",
          "name": "stdout",
          "text": [
            "number of that does not have an original title:36\n"
          ]
        }
      ]
    },
    {
      "cell_type": "code",
      "source": [
        "#How many unique books are present in the dataset ?\n",
        "\n",
        "df = S.dropna(subset=['original_title'])\n",
        "unique = df['book_id'].nunique()\n",
        "print(f\"unique books in the dataset: {unique}\")"
      ],
      "metadata": {
        "colab": {
          "base_uri": "https://localhost:8080/"
        },
        "id": "UGqSEEQXNkWn",
        "outputId": "d14f2ffc-2dd4-451e-8b76-25d5cafcd48d"
      },
      "execution_count": 45,
      "outputs": [
        {
          "output_type": "stream",
          "name": "stdout",
          "text": [
            "unique books in the dataset: 363\n"
          ]
        }
      ]
    },
    {
      "cell_type": "code",
      "source": [
        "#Bucket the average_rating of books into 11 buckets [0, 0.5, 1.0, 1.5, 2.0, 2.5, 3.0, 3.5, 4.0, 4.5, 5.0] with 0.5 decimal rounding (eg: average_rating 3.0 to 3.49 will fall in bucket 3.0). Plot bar graph to show total number of books in each rating bucket.\n",
        "\n",
        "df = S.dropna(subset=['average_rating'])\n",
        "avg = df['average_rating'].mean()\n",
        "print(f\"Average rating of all the books in the dataset: {avg}\")"
      ],
      "metadata": {
        "colab": {
          "base_uri": "https://localhost:8080/"
        },
        "id": "jRHdot85QxqR",
        "outputId": "449b0c34-ec4b-4ecb-e65a-28f8bd6eb83b"
      },
      "execution_count": 46,
      "outputs": [
        {
          "output_type": "stream",
          "name": "stdout",
          "text": [
            "Average rating of all the books in the dataset: 3.9837844611528817\n"
          ]
        }
      ]
    },
    {
      "cell_type": "code",
      "source": [
        "#Find the number of books published in the year ‘2000’ based on the ‘original_publication_year’.\n",
        "pubin2000 = S[S['original_publication_year'] == 2000]\n",
        "total_number_of_books = len(pubin2000)\n",
        "print(f\" books published in the year 2000: {total_number_of_books}\")"
      ],
      "metadata": {
        "colab": {
          "base_uri": "https://localhost:8080/"
        },
        "id": "tEgHaSY_RhZs",
        "outputId": "7fecbf53-2dca-4685-ff76-8cb4ddc3577b"
      },
      "execution_count": 47,
      "outputs": [
        {
          "output_type": "stream",
          "name": "stdout",
          "text": [
            " books published in the year 2000: 8\n"
          ]
        }
      ]
    },
    {
      "cell_type": "code",
      "source": [
        "#Which book (title) has the maximum number of ratings based on ‘work_ratings_count’.\n",
        "\n",
        "df = S.sort_values(by='work_ratings_count', ascending=False)\n",
        "max_ratings = df.iloc[0]['original_title']\n",
        "print(f\"maximum number of ratings: {max_ratings}\")"
      ],
      "metadata": {
        "colab": {
          "base_uri": "https://localhost:8080/"
        },
        "id": "D234KSUDSDUC",
        "outputId": "c33be02c-e77f-4f98-b19d-4fbe6888545a"
      },
      "execution_count": 48,
      "outputs": [
        {
          "output_type": "stream",
          "name": "stdout",
          "text": [
            "maximum number of ratings: Het Achterhuis: Dagboekbrieven 14 juni 1942 - 1 augustus 1944\n"
          ]
        }
      ]
    },
    {
      "cell_type": "code",
      "source": [
        "#Bucket the average_rating of books into 11 buckets [0, 0.5, 1.0, 1.5, 2.0, 2.5, 3.0, 3.5, 4.0, 4.5, 5.0] with 0.5 decimal rounding (eg: average_rating 3.0 to 3.49 will fall in bucket 3.0). Plot bar graph to show total number of books in each rating bucket.\n",
        "\n",
        "buckets = np.arange(0, 5.5, 0.5)\n",
        "S['rating_bucket'] = pd.cut(df['average_rating'], buckets, labels=buckets[:-1], include_lowest=True)\n",
        "counts = S['rating_bucket'].value_counts()\n",
        "plt.figure(figsize=(10, 4))\n",
        "\n",
        "plt.bar(counts.index, counts.values,color='pink')\n",
        "plt.xlabel('Rating Bucket')\n",
        "plt.ylabel('Number of Books')\n",
        "plt.title('Number of Books present in Rating Bucket')\n",
        "plt.show()"
      ],
      "metadata": {
        "colab": {
          "base_uri": "https://localhost:8080/",
          "height": 410
        },
        "id": "gU7ImaEVSfzE",
        "outputId": "1a481c7d-02ba-4278-fd76-7740b5ba97c6"
      },
      "execution_count": 49,
      "outputs": [
        {
          "output_type": "display_data",
          "data": {
            "text/plain": [
              "<Figure size 1000x400 with 1 Axes>"
            ],
            "image/png": "[encoded data removed]"
          },
          "metadata": {}
        }
      ]
    }
  ]
}